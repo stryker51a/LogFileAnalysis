{
 "cells": [
  {
   "cell_type": "code",
   "execution_count": null,
   "metadata": {},
   "outputs": [],
   "source": [
    "import csv\n",
    "import utm\n",
    "import math\n",
    "import requests\n",
    "import pyperclip\n",
    "import numpy as np\n",
    "import pandas as pd\n",
    "import seaborn as sns\n",
    "from bs4 import BeautifulSoup\n",
    "import matplotlib.pyplot as plt\n",
    "from mpl_toolkits import mplot3d\n",
    "from matplotlib.pyplot import figure"
   ]
  },
  {
   "cell_type": "code",
   "execution_count": null,
   "metadata": {
    "pycharm": {
     "name": "#%%\n"
    }
   },
   "outputs": [],
   "source": [
    "# PLEASE READ AT LEAST THE BEGINNING OF THE DATA APPROACH DOCUMENT BEFORE RUNNING THIS CODE\n",
    "# common error #1:\n",
    "# not changing all the \", \" strings in the csv file to \",\" strings\n",
    "\n",
    "# common error #2\n",
    "# Please move all the FMT, UNIT, MULT, and FMTU commands in that order to the top of the file\n",
    "# if things are breaking.\n",
    "\n",
    "file_header_format = []\n",
    "MULTs = {}\n",
    "UnitKeys = {}\n",
    "FMTs = {}\n",
    "TypeIDs = {}\n",
    "COLs = {}\n",
    "counts = {}\n",
    "PARAMs = {}\n",
    "DATA = {}\n",
    "DATA2 = {}"
   ]
  },
  {
   "cell_type": "code",
   "execution_count": null,
   "metadata": {
    "pycharm": {
     "name": "#%%\n"
    }
   },
   "outputs": [],
   "source": [
    "\n",
    "def get_col_index(fmt, name, meta_data=COLs):\n",
    "    return meta_data[fmt]['col_names'].index(name.lower()) + 1\n",
    "\n",
    "\n",
    "def all_to_lower(array):\n",
    "    to_return = []\n",
    "    for string in array:\n",
    "        to_return.append(string.lower())\n",
    "    return to_return\n",
    "\n",
    "\n",
    "# Converting each datapoint from a string to its type specified by its type character\n",
    "def convert_data_point(data, type_char):\n",
    "\n",
    "    try:\n",
    "        if type_char == 'h' or type_char == 'H' or type_char == 'i' or type_char == 'I' or type_char == 'Q':\n",
    "            return int(data)\n",
    "        elif type_char == 'f':\n",
    "            return float(data)\n",
    "        try:\n",
    "            return int(data)\n",
    "        except ValueError:\n",
    "            return float(data)\n",
    "\n",
    "    except ValueError:\n",
    "        return data"
   ]
  },
  {
   "cell_type": "code",
   "execution_count": null,
   "metadata": {
    "pycharm": {
     "name": "#%%\n"
    }
   },
   "outputs": [],
   "source": [
    "# Documentation: https://ardupilot.org/copter/docs/logmessages.html\n",
    "\n",
    "import time\n",
    "\n",
    "time1 = time.time()\n",
    "\n",
    "DATA2 = {}\n",
    "\n",
    "# Change these to your file_name\n",
    "file_name = '2022-05-05 10-53-43.csv'\n",
    "cur_folder = 'data_' + file_name.split(\" \")[0]\n",
    "\n",
    "# if your file is in a folder, specify here\n",
    "path_to_file = 'original_data/' + file_name\n",
    "\n",
    "\n",
    "row_count = 0\n",
    "with open(path_to_file, newline='') as csvfile:\n",
    "    csv_reader = csv.reader(csvfile, delimiter=',') # May need to replace all \", \" with \",\"\n",
    "    file_header_format = csv_reader.__next__()\n",
    "    COLs[file_header_format[0]] = {'col_names':[], 'units':{}, 'mult_factor':{}, 'data_type':[]}\n",
    "    COLs[file_header_format[0]]['col_names'] = all_to_lower(file_header_format[5:])\n",
    "    TypeIDs[int(file_header_format[1])] = file_header_format[0]\n",
    "    COLs[file_header_format[0]]['data_type'] = list(file_header_format[4])\n",
    "\n",
    "    for row in csv_reader:\n",
    "\n",
    "        # Count the number of occurrences of each format type for reference\n",
    "        try:\n",
    "            val = counts[row[0]]\n",
    "            counts[row[0]] = val + 1\n",
    "        except KeyError:\n",
    "            counts[row[0]] = 1\n",
    "\n",
    "        # Format Element\n",
    "        # This related a format type (a 2-4 character string) to a format id\n",
    "        # and the names of the data points that will appear whenever that format icon is logged\n",
    "        if row[0] == 'FMT':\n",
    "            data_point = row[get_col_index(row[0], 'Name')]\n",
    "            COLs[data_point] = {'col_names':[], 'units':{}, 'mult_factor':{}, 'data_type':[]}\n",
    "            COLs[data_point]['col_names'] = all_to_lower(row[5:])\n",
    "            TypeIDs[int(row[1])] = data_point\n",
    "\n",
    "            type_string = row[get_col_index(row[0], 'Format')]\n",
    "            COLs[data_point]['data_type'] = list(type_string)\n",
    "            continue\n",
    "\n",
    "        # Relating a multiplication term to a specific characters\n",
    "        # Each format type id is mapped a specific character to specific a\n",
    "        # number it should be multiplied by To get that datapoint's actual value\n",
    "        if row[0] == 'MULT':\n",
    "            integer = int(row[2])\n",
    "            MULTs[chr(integer)] = float(row[3] if row[3] != '' else ' ')\n",
    "            continue\n",
    "\n",
    "        # Relating a unit type to a specific character\n",
    "        # Each format type id then is mapped to a specific character to specify its type\n",
    "        if row[0] == 'UNIT':\n",
    "            integer = int(row[2])\n",
    "            UnitKeys[chr(integer)] = row[3]\n",
    "            continue\n",
    "\n",
    "        # Format Block Element\n",
    "        if row[0] == 'FMTU':\n",
    "            fmt_type_id = int(row[get_col_index(row[0], 'FmtType')])\n",
    "            fmt_type = TypeIDs[fmt_type_id]\n",
    "            unit_string = row[get_col_index(row[0], 'UnitIds')]\n",
    "            mult_string = row[get_col_index(row[0], 'MultIds')]\n",
    "\n",
    "            unit_list = []\n",
    "            mult_list = []\n",
    "\n",
    "            for c in unit_string:\n",
    "                unit_list.append(UnitKeys[c])\n",
    "\n",
    "            for c in mult_string:\n",
    "                mult_list.append(float(MULTs[c]))\n",
    "\n",
    "            unit_dict = {}\n",
    "            mult_dict = {}\n",
    "\n",
    "            for col_name, unit, mult, in zip(COLs[fmt_type]['col_names'], unit_list, mult_list):\n",
    "                unit_dict[col_name] = unit\n",
    "                mult_dict[col_name] = mult\n",
    "\n",
    "            COLs[fmt_type]['units'] = unit_dict\n",
    "            COLs[fmt_type]['mult_factor'] = mult_dict\n",
    "            continue\n",
    "\n",
    "        # Defines specific octo-copter params\n",
    "        if row[0] == 'PARM':\n",
    "            PARAMs[row[2]] = {}\n",
    "            PARAMs[row[2]]['time'] = int(row[1])\n",
    "\n",
    "            try:\n",
    "                PARAMs[row[2]]['value'] = int(row[3])\n",
    "            except ValueError:\n",
    "                PARAMs[row[2]]['value'] = float(row[3])\n",
    "\n",
    "            continue\n",
    "\n",
    "        # All other format types can be parsed using the same code\n",
    "\n",
    "        fmt_type = row[0]\n",
    "        key_list = DATA2.keys()\n",
    "\n",
    "        if fmt_type not in key_list:\n",
    "            new_df = {}\n",
    "            for col_name in COLs[fmt_type]['col_names']:\n",
    "                new_df[col_name] = []\n",
    "            DATA2[fmt_type] = pd.DataFrame(new_df) # , dtype='int'\n",
    "\n",
    "        new_row = {}\n",
    "\n",
    "        i = 1\n",
    "        for col_name, data_type in zip(COLs[fmt_type]['col_names'], COLs[fmt_type]['data_type']):\n",
    "            if isinstance(row[i], list): # Some rows come in as 2d lists for some reason\n",
    "                new_row[col_name] = [convert_data_point(row[i][0], data_type)]\n",
    "            else:\n",
    "                new_row[col_name] = [convert_data_point(row[i], data_type)]\n",
    "            i = i + 1\n",
    "\n",
    "        new_row = pd.DataFrame(new_row)\n",
    "\n",
    "\n",
    "        DATA2[fmt_type] = pd.concat([DATA2[fmt_type], new_row], ignore_index = True)\n",
    "\n",
    "        row_count = row_count + 1\n",
    "\n",
    "        if row_count % 1000 == 0:\n",
    "            print(row_count)\n",
    "\n",
    "DATA = DATA2\n",
    "\n",
    "load_time = time.time() - time1\n",
    "\n",
    "print(\"Load time in sec: \" + str(load_time))\n",
    "\n",
    "# 163.561"
   ]
  },
  {
   "cell_type": "code",
   "execution_count": null,
   "metadata": {
    "pycharm": {
     "name": "#%%\n"
    }
   },
   "outputs": [],
   "source": [
    "DATA2 = {}"
   ]
  },
  {
   "cell_type": "code",
   "execution_count": null,
   "metadata": {
    "pycharm": {
     "name": "#%%\n"
    }
   },
   "outputs": [],
   "source": [
    "COLs"
   ]
  },
  {
   "cell_type": "code",
   "execution_count": null,
   "metadata": {
    "pycharm": {
     "name": "#%%\n"
    }
   },
   "outputs": [],
   "source": [
    "# Web Scrapping:\n",
    "URL = \"https://ardupilot.org/copter/docs/logmessages.html\"\n",
    "page = requests.get(URL)\n",
    "\n",
    "soup = BeautifulSoup(page.content, \"html.parser\")\n",
    "\n",
    "format_descriptions = {}\n",
    "\n",
    "for data_points in counts.keys():\n",
    "\n",
    "    results = soup.find(\"div\", id=data_points.lower())\n",
    "    if results is None:\n",
    "        if data_points[len(data_points)-1].isnumeric():\n",
    "            results = soup.find(\"div\", id=data_points[:len(data_points)-1].lower())\n",
    "\n",
    "        if results is None:\n",
    "            format_descriptions[data_points] = {'general': 'UNKNOWN'}\n",
    "            continue\n",
    "\n",
    "    p_general = results.find(\"p\").text\n",
    "\n",
    "    format_descriptions[data_points] = {'general': p_general}\n",
    "\n",
    "    results = results.find(\"table\")\n",
    "    table_elements = results.find_all(\"td\")\n",
    "    previous = None\n",
    "    for elem in table_elements:\n",
    "        if previous is not None:\n",
    "            format_descriptions[data_points][previous] = elem.text\n",
    "            previous = None\n",
    "        else:\n",
    "            previous = elem.text.lower()\n",
    "\n",
    "\n",
    "# Battery (voltage and current)\n",
    "# RPM, Thrust, and Thrust (%) -- separate files\n"
   ]
  },
  {
   "cell_type": "code",
   "execution_count": null,
   "metadata": {
    "pycharm": {
     "name": "#%%\n"
    }
   },
   "outputs": [],
   "source": [
    "format_descriptions"
   ]
  },
  {
   "cell_type": "code",
   "execution_count": null,
   "metadata": {
    "pycharm": {
     "name": "#%%\n"
    }
   },
   "outputs": [],
   "source": [
    "key_list = counts.keys()\n",
    "key_list = sorted(key_list)\n",
    "with open(cur_folder + \"/data_description.txt\", 'w', encoding='utf8') as output_file:\n",
    "    for key in format_descriptions:\n",
    "\n",
    "        output_file.write(\"----------NEW FORMAT----------\\n\")\n",
    "        output_file.write(key + \": \" + format_descriptions[key]['general'] + \"\\n\")\n",
    "        for col_name in COLs[key]['col_names']:\n",
    "            try:\n",
    "                output_file.write(col_name + \": \" + format_descriptions[key][col_name] + \"\\n\")\n",
    "            except KeyError:\n",
    "                output_file.write(col_name + \" UNKNOWN\" + \"\\n\")\n",
    "        output_file.write(\"\\n\")\n"
   ]
  },
  {
   "cell_type": "code",
   "execution_count": null,
   "metadata": {
    "pycharm": {
     "name": "#%%\n"
    }
   },
   "outputs": [],
   "source": [
    "def print_format_info(fmt, data=format_descriptions):\n",
    "\n",
    "    try:\n",
    "        print(fmt + \":\", data[fmt]['general'])\n",
    "    except KeyError:\n",
    "        print(\"Key: \\'\" +fmt + \"\\' is not present in the log file\")\n",
    "        return\n",
    "    for col in COLs[fmt]['col_names']:\n",
    "        try:\n",
    "            print(col + \":\", data[fmt][col])\n",
    "        except KeyError:\n",
    "            print(col, \"UNKNOWN\")\n",
    "\n",
    "def print_all_keys(data=format_descriptions):\n",
    "    for fmt_key in data:\n",
    "        print(fmt_key + \":\", format_descriptions[fmt_key]['general'])\n",
    "\n",
    "def search_for_keyword(keyword, data=format_descriptions):\n",
    "    for fmt_key in data.keys():\n",
    "        printed = False\n",
    "        print_general = False\n",
    "        print_string = \"\"\n",
    "\n",
    "        for col in data[fmt_key].keys():\n",
    "            if keyword.lower() in data[fmt_key][col.lower()].lower():\n",
    "                if col == 'general':\n",
    "                    print_general = True\n",
    "                print_string = print_string + fmt_key + \", \"  + col + \": \" + data[fmt_key][col.lower()] + \"\\n\"\n",
    "                printed = True\n",
    "\n",
    "        if printed and print_general:\n",
    "            print(print_string)\n",
    "        elif printed:\n",
    "            print(fmt_key + \", general: \" + data[fmt_key]['general'])\n",
    "            print(print_string)"
   ]
  },
  {
   "cell_type": "code",
   "execution_count": null,
   "metadata": {
    "pycharm": {
     "name": "#%%\n"
    }
   },
   "outputs": [],
   "source": [
    "search_for_keyword(\"speed\")\n",
    "#format_descriptions\n",
    "#print_format_info(\"CMD\")\n",
    "\n",
    "#DATA['GPS']"
   ]
  },
  {
   "cell_type": "code",
   "execution_count": null,
   "metadata": {
    "pycharm": {
     "name": "#%%\n"
    }
   },
   "outputs": [],
   "source": [
    "# Plot Position:\n",
    "\n",
    "position_frame  = DATA['POS']\n",
    "gps_frame = DATA['GPS']\n",
    "\n",
    "gps_time = gps_frame['timeus'] * (1/1000000)\n",
    "gps_lat = gps_frame['lat']\n",
    "gps_lng = gps_frame['lng']\n",
    "gps_gr_spd = gps_frame['spd']\n",
    "gps_alt = gps_frame['alt']\n",
    "gps_vz = gps_frame['vz']\n",
    "\n",
    "pos_time = position_frame['timeus'] * (1/1000000)\n",
    "pos_lat = position_frame['lat']\n",
    "pos_lng = position_frame['lng']\n",
    "\n",
    "pos_lat_lng = position_frame[['lat', 'lng']]\n",
    "gps_lat_lng = gps_frame[['lat', 'lng']]\n",
    "\n",
    "psc_frame = DATA['PSC']\n",
    "psc_time = psc_frame['timeus'] * (1/1000000)\n",
    "psc_velocities = psc_frame[['vx', 'vy']]\n"
   ]
  },
  {
   "cell_type": "code",
   "execution_count": null,
   "metadata": {
    "pycharm": {
     "name": "#%%\n"
    }
   },
   "outputs": [],
   "source": [
    "def binary_search(target, array):\n",
    "    \"\"\"\n",
    "    Returns the index in the sorted array of that is closest to target.\n",
    "\n",
    "    :param target: The target value.\n",
    "    :param array: The sorted array to search.\n",
    "    :return: The index in the array that is closest to target.\n",
    "    \"\"\"\n",
    "    return rec_bin_search(target, 0, len(array), array)\n",
    "\n",
    "def rec_bin_search(target, start, end, array):\n",
    "    center = int(abs(end+start)/2)\n",
    "    if abs(end-start) <= 1:\n",
    "        if abs(target-end) < abs(target-start):\n",
    "            return end\n",
    "        else:\n",
    "            return start\n",
    "    elif target == array[center]:\n",
    "        return center\n",
    "    elif target > array[center]:\n",
    "        return rec_bin_search(target, center+1, end, array)\n",
    "    elif target < array[center]:\n",
    "        return rec_bin_search(target, start, center-1, array)\n"
   ]
  },
  {
   "cell_type": "code",
   "execution_count": null,
   "metadata": {
    "pycharm": {
     "name": "#%%\n"
    }
   },
   "outputs": [],
   "source": [
    "DATA['CMD']"
   ]
  },
  {
   "cell_type": "code",
   "execution_count": null,
   "metadata": {
    "pycharm": {
     "name": "#%%\n"
    }
   },
   "outputs": [],
   "source": [
    "ctot = int(DATA['CMD']['ctot'][0])\n",
    "waypoints_lat_lng = DATA['CMD'].iloc[:ctot][DATA['CMD'].iloc[:ctot].cid == 16.0][['lat', 'lng', 'alt']]\n",
    "\n",
    "waypoints_x = []\n",
    "waypoints_y = []\n",
    "waypoints_height = np.asarray(waypoints_lat_lng['alt'])\n",
    "\n",
    "for index, row in waypoints_lat_lng.iterrows():\n",
    "    x, y, _, _ = utm.from_latlon(float(row[\"lat\"]), float(row[\"lng\"]))\n",
    "    waypoints_x.append(x)\n",
    "    waypoints_y.append(y)\n",
    "\n",
    "pos_x_cords = []\n",
    "pos_y_cords = []\n",
    "\n",
    "for index, row in pos_lat_lng.iterrows():\n",
    "    x, y, _, _ = utm.from_latlon(float(row[\"lat\"]), float(row[\"lng\"]))\n",
    "    pos_x_cords.append(x)\n",
    "    pos_y_cords.append(y)\n",
    "\n",
    "gps_x_cords = []\n",
    "gps_y_cords = []\n",
    "\n",
    "for index, row in gps_lat_lng.iterrows():\n",
    "    x, y, _, _ = utm.from_latlon(float(row[\"lat\"]), float(row[\"lng\"]))\n",
    "    gps_x_cords.append(x)\n",
    "    gps_y_cords.append(y)\n",
    "\n",
    "pos_x_cords = np.asarray(pos_x_cords)\n",
    "pos_y_cords = np.asarray(pos_y_cords)\n",
    "gps_x_cords = np.asarray(gps_x_cords)\n",
    "gps_y_cords = np.asarray(gps_y_cords)\n",
    "waypoints_x = np.asarray(waypoints_x)\n",
    "waypoints_y = np.asarray(waypoints_y)\n",
    "\n",
    "add_pos_x = -1 * pos_x_cords[0]\n",
    "add_pos_y = -1 * pos_y_cords[0]\n",
    "\n",
    "pos_x_cords = pos_x_cords + add_pos_x\n",
    "pos_y_cords = pos_y_cords + add_pos_y\n",
    "\n",
    "add_gps_x = -1 * gps_x_cords[0]\n",
    "add_gps_y = -1 * gps_y_cords[0]\n",
    "\n",
    "gps_x_cords = gps_x_cords + add_gps_x\n",
    "gps_y_cords = gps_y_cords + add_gps_y\n",
    "waypoints_x = waypoints_x + add_gps_x\n",
    "waypoints_y = waypoints_y + add_gps_y\n",
    "\n",
    "in_line_cmds = DATA['CMD'].iloc[ctot:]\n",
    "in_line_cmds = np.asarray(in_line_cmds[in_line_cmds.cid == 16.0]['timeus'])\n",
    "\n",
    "cmd_x = []\n",
    "cmd_y = []\n",
    "cmd_alt = []\n",
    "cmd_speed = []\n",
    "\n",
    "for time in in_line_cmds:\n",
    "    val = binary_search(time * (1/1000000), gps_time)\n",
    "    cmd_x.append(gps_x_cords[val])\n",
    "    cmd_y.append(gps_y_cords[val])\n",
    "    cmd_alt.append(gps_alt[val])\n",
    "    cmd_speed.append((gps_gr_spd[val], gps_vz[val]))"
   ]
  },
  {
   "cell_type": "code",
   "execution_count": null,
   "metadata": {
    "pycharm": {
     "name": "#%%\n"
    }
   },
   "outputs": [],
   "source": [
    "cmd_speed"
   ]
  },
  {
   "cell_type": "code",
   "execution_count": null,
   "metadata": {
    "pycharm": {
     "name": "#%%\n"
    }
   },
   "outputs": [],
   "source": [
    "dist_list = []\n",
    "speed_list = []\n",
    "\n",
    "for x1, y1, h1, x2, y2, h2, (g_speed, v_speed) in zip(waypoints_x, waypoints_y, waypoints_height, cmd_x, cmd_y, cmd_alt, cmd_speed):\n",
    "    dist_list.append(math.dist([x1, y1, h1], [x2, y2, h2]))\n",
    "    speed_list.append(math.sqrt(math.pow(g_speed, 2) + math.pow(v_speed, 2)))\n",
    "\n",
    "print(speed_list)\n",
    "\n",
    "labels = range(len(dist_list))\n",
    "x = np.arange(len(labels))  # the label locations\n",
    "width = 0.35  # the width of the bars\n",
    "\n",
    "fig, ax = plt.subplots()\n",
    "rects1 = ax.bar(x - width/2, dist_list, width, label='distance')\n",
    "rects2 = ax.bar(x + width/2, speed_list, width, label='speed')\n",
    "\n",
    "# Add some text for labels, title and custom x-axis tick labels, etc.\n",
    "ax.set_ylabel('Speeds and distances')\n",
    "ax.set_title('Title 1')\n",
    "ax.set_xticks(x, labels)\n",
    "ax.legend()\n",
    "\n",
    "ax.bar_label(rects1, padding=3)\n",
    "ax.bar_label(rects2, padding=3)\n",
    "\n",
    "fig.tight_layout()\n",
    "\n",
    "plt.title(\"Waypoint information\")\n",
    "plt.show()"
   ]
  },
  {
   "cell_type": "code",
   "execution_count": null,
   "metadata": {
    "pycharm": {
     "name": "#%%\n"
    }
   },
   "outputs": [],
   "source": [
    "figure(figsize=(10, 10))\n",
    "\n",
    "plt.subplot(3, 2, 1)\n",
    "\n",
    "plt.plot(pos_x_cords, pos_y_cords, c='r')\n",
    "plt.plot(gps_x_cords, gps_y_cords, c='b')\n",
    "\n",
    "for x, y in zip(cmd_x, cmd_y):\n",
    "    plt.plot(x, y, marker=\"o\", markersize=3, markeredgecolor=\"green\", markerfacecolor=\"green\")\n",
    "\n",
    "for x, y in zip(waypoints_x, waypoints_y):\n",
    "    plt.plot(x, y, marker=\"x\", markersize=5, markeredgecolor=\"orange\", markerfacecolor=\"orange\")\n",
    "\n",
    "plt.title(\"Both overlayed\")\n",
    "\n",
    "# plt.plot(gps_x_cords, gps_y_cords, c='b', label = 'path')\n",
    "# plt.title(\"GPS Cords\")\n",
    "\n",
    "plt.subplot(3, 2, 2)\n",
    "\n",
    "for i in range(1,9):\n",
    "    fmt_type = \"ESC\" + str(i)\n",
    "    ecs_time = DATA[fmt_type]['timeus'] * COLs[fmt_type]['mult_factor']['timeus']\n",
    "    ecs_volts = DATA[fmt_type]['rpm'] * COLs[fmt_type]['mult_factor']['rpm']\n",
    "    plt.plot(ecs_time, ecs_volts, label = 'motor %d' % i)\n",
    "\n",
    "plt.ylabel(COLs['ESC1']['units']['rpm'])\n",
    "plt.legend()\n",
    "plt.title(\"Motor RPMS\")\n",
    "\n",
    "# plt.plot(pos_x_cords, pos_y_cords, c='r', label = 'path')\n",
    "# plt.title(\"Position Cords (Probably By IMU)\")\n",
    "\n",
    "plt.subplot(3, 2, 3)\n",
    "\n",
    "plt.plot(gps_time, gps_x_cords, c='orange', label = 'X-cord')\n",
    "plt.plot(gps_time, gps_y_cords, c='g', label = 'Y-cord')\n",
    "plt.legend()\n",
    "plt.title(\"Time vs position (GPS)\")\n",
    "\n",
    "plt.subplot(3, 2, 4)\n",
    "\n",
    "for i in range(1,9):\n",
    "    fmt_type = \"ESC\" + str(i)\n",
    "    ecs_time = DATA[fmt_type]['timeus'] * COLs[fmt_type]['mult_factor']['timeus']\n",
    "    ecs_volts = DATA[fmt_type]['volt'] * COLs[fmt_type]['mult_factor']['volt']\n",
    "    plt.plot(ecs_time, ecs_volts, label = fmt_type)\n",
    "\n",
    "plt.legend()\n",
    "plt.ylabel(COLs['ESC1']['units']['volt'])\n",
    "plt.title(\"Motor Voltages\")\n",
    "\n",
    "plt.subplot(3, 2, 5)\n",
    "\n",
    "plt.plot(psc_time, psc_velocities['vx'], c= 'r', label= \"X-velocity\")\n",
    "plt.plot(psc_time, psc_velocities['vy'], c='b', label= \"Y-velocity\")\n",
    "plt.legend()\n",
    "plt.title(\"Time vs velocity (Not sure how generated)\")\n",
    "\n",
    "plt.subplot(3, 2, 6)\n",
    "\n",
    "plt.plot(gps_time, gps_gr_spd, c='g', label='ground speed')\n",
    "plt.legend()\n",
    "plt.title(\"Ground Speed over time\")\n",
    "\n",
    "plt.tight_layout()"
   ]
  },
  {
   "cell_type": "code",
   "execution_count": null,
   "metadata": {
    "pycharm": {
     "name": "#%%\n"
    }
   },
   "outputs": [],
   "source": [
    "figure(figsize=(10, 10))\n",
    "\n",
    "plt.plot(gps_x_cords, gps_y_cords, c='b')\n",
    "\n",
    "for x, y in zip(cmd_x, cmd_y):\n",
    "    plt.plot(x, y, marker=\"o\", markersize=7, markeredgecolor=\"green\", markerfacecolor=\"green\", label='way point received')\n",
    "\n",
    "for x, y in zip(waypoints_x, waypoints_y):\n",
    "    plt.plot(x, y, marker=\"x\", markersize=10, markeredgecolor=\"red\", markerfacecolor=\"red\", label='waypoint')\n",
    "\n",
    "plt.title(\"Trajectory\")\n",
    "\n",
    "for x, y in zip(waypoints_x, waypoints_y):\n",
    "    print(str(x) + \", \" + str(y))\n",
    "\n",
    "wp_remove = 1\n",
    "\n",
    "new_waypoints_x = np.asarray(waypoints_x[wp_remove:])\n",
    "new_waypoints_y = np.asarray(waypoints_y[wp_remove:])\n",
    "new_wp_height = np.asarray(waypoints_height[wp_remove:])\n",
    "\n",
    "new_waypoints_x = new_waypoints_x - waypoints_x[wp_remove]\n",
    "new_waypoints_y = new_waypoints_y - waypoints_y[wp_remove]\n",
    "\n",
    "print()\n",
    "\n",
    "for x, y, z in zip(new_waypoints_x, new_waypoints_y, new_wp_height):\n",
    "    print(str(x) + \", \" + str(y) + \", \" + str(z))"
   ]
  },
  {
   "cell_type": "code",
   "execution_count": null,
   "metadata": {
    "pycharm": {
     "name": "#%%\n"
    }
   },
   "outputs": [],
   "source": [
    "att_frame = DATA['ATT']\n",
    "att_time = att_frame['timeus'] / 1000000\n",
    "att_des_roll = att_frame['desroll']\n",
    "\n",
    "cmd_att_time = []\n",
    "cmd_roll = []\n",
    "cmd_gps_time = []\n",
    "cmd_grd_spd = []\n",
    "\n",
    "\n",
    "for time in in_line_cmds:\n",
    "    val = binary_search(time * (1/1000000), att_time)\n",
    "    cmd_att_time.append(att_time[val])\n",
    "    cmd_roll.append(att_des_roll[val])\n",
    "\n",
    "    val2 = binary_search(time * (1/1000000), gps_time)\n",
    "    cmd_gps_time.append(gps_time[val2])\n",
    "    cmd_grd_spd.append(gps_gr_spd[val2])\n",
    "\n",
    "rate_frame = DATA['RATE']\n",
    "rate_time = rate_frame['timeus'] / 1000000\n",
    "\n",
    "waypoint_num = 3\n",
    "waypoint_window = 40 # in seconds\n",
    "waypoint_num = waypoint_num - 1\n",
    "\n",
    "waypoint_gps_time = cmd_gps_time[waypoint_num]\n",
    "waypoint_start = waypoint_gps_time - waypoint_window/4\n",
    "waypoint_end = waypoint_gps_time + waypoint_window\n",
    "\n",
    "att_start_index = binary_search(waypoint_start, att_time)\n",
    "att_end_index = binary_search(waypoint_end, att_time)\n",
    "\n",
    "rate_start_index = binary_search(waypoint_start, rate_time)\n",
    "rate_end_index = binary_search(waypoint_end, rate_time)"
   ]
  },
  {
   "cell_type": "code",
   "execution_count": null,
   "metadata": {
    "pycharm": {
     "name": "#%%\n"
    }
   },
   "outputs": [],
   "source": [
    "att_yaw = att_frame['yaw']\n",
    "\n",
    "figure(figsize=(12, 12), layout=None)\n",
    "\n",
    "plt.subplot(3, 2, 1)\n",
    "plt.plot(att_time, att_yaw, label='yaw', c='r')\n",
    "plt.legend()\n",
    "plt.title(\"Raw Yaw\")\n",
    "plt.ylabel(\"degree heading\")\n",
    "\n",
    "plt.subplot(3, 2, 2)\n",
    "plt.plot(att_time, [0 if abs(yaw-0) < 10 or abs(yaw-360) < 10 else yaw for yaw in att_yaw], label ='yaw normalized', c='b')\n",
    "plt.legend()\n",
    "plt.ylabel(\"degree heading\")\n",
    "plt.title(\"Yaw normalized to 0 if within 10 degrees of 0\")\n",
    "\n",
    "plt.subplot(3, 2, 3)\n",
    "plt.plot(att_time[att_start_index:att_end_index], att_frame['pitch'][att_start_index:att_end_index], label = 'pitch')\n",
    "plt.plot(att_time[att_start_index:att_end_index], att_frame['roll'][att_start_index:att_end_index], label = 'roll')\n",
    "plt.ylabel('deg')\n",
    "plt.xlabel('time')\n",
    "plt.legend()\n",
    "\n",
    "plt.title(\"Around a turning waypoint\")\n",
    "\n",
    "plt.subplot(3, 2, 4)\n",
    "plt.plot(rate_time[rate_start_index:rate_end_index], rate_frame['p'][rate_start_index:rate_end_index], label='pitch rate')\n",
    "plt.plot(rate_time[rate_start_index:rate_end_index], rate_frame['r'][rate_start_index:rate_end_index], label='roll rate')\n",
    "plt.ylabel('deg/s')\n",
    "plt.xlabel('time')\n",
    "plt.legend()\n",
    "\n",
    "plt.title('Rate around a turning waypoint')\n",
    "\n",
    "#plt.savefig(\"yaw.png\")"
   ]
  },
  {
   "cell_type": "code",
   "execution_count": null,
   "metadata": {
    "pycharm": {
     "name": "#%%\n"
    }
   },
   "outputs": [],
   "source": [
    "fig, ax = plt.subplots(2, 2, figsize=(20,12))\n",
    "ax_0 = ax[0][0]\n",
    "ax_0.plot(gps_time, gps_gr_spd, c='r', label='ground speed')\n",
    "plt.xlabel(\"time\")\n",
    "ax_0.set_ylabel(\"m/s\")\n",
    "ax_0.legend()\n",
    "\n",
    "for time, pos in zip(cmd_gps_time, cmd_grd_spd):\n",
    "    ax_0.plot(time, pos, marker=\"o\", markersize=8, markeredgecolor=\"orange\", markerfacecolor=\"blue\")\n",
    "\n",
    "ax2 = ax_0.twinx()\n",
    "ax2.plot(att_time, att_frame['desroll'], c = 'g', label='desroll')\n",
    "ax2.plot(att_time, att_frame['despitch'], label='despitch')\n",
    "#ax2.plot(att_time, att_frame['desyaw'], label='desyaw')\n",
    "ax2.set_ylabel('deg')\n",
    "ax2.legend()\n",
    "\n",
    "ax_1 = ax[1][0]\n",
    "ax_1.plot(gps_x_cords, gps_y_cords, c='b')\n",
    "\n",
    "for x, y in zip(cmd_x, cmd_y):\n",
    "    ax_1.plot(x, y, marker=\"o\", markersize=7, markeredgecolor=\"green\", markerfacecolor=\"green\", label='way point received')\n",
    "\n",
    "for x, y in zip(waypoints_x, waypoints_y):\n",
    "    ax_1.plot(x, y, marker=\"x\", markersize=10, markeredgecolor=\"red\", markerfacecolor=\"red\", label='waypoint')\n",
    "\n",
    "ax_2 = ax[0][1]\n",
    "\n",
    "ax_2.plot(rate_time, [50 * (yaw_rate/abs(yaw_rate)) if abs(yaw_rate) > 50 else yaw_rate for yaw_rate in rate_frame['ydes']], label=' desired yaw rate (deg/s)')\n",
    "ax_2.plot(rate_time, rate_frame['y'], label='yaw rate')\n",
    "\n",
    "ax_2.legend()\n",
    "ax_2.set_ylabel('deg/s')\n",
    "\n",
    "ax_3 = ax[1][1]\n",
    "\n",
    "ax_3.plot(rate_time, [0 if abs(des_y_r - yaw_r) > 50 else des_y_r-yaw_r for des_y_r, yaw_r in zip(rate_frame['ydes'], rate_frame['y'])], label='yaw rate error', c='r')\n",
    "ax_3.legend()\n",
    "ax_3.set_ylabel('deg/s')\n",
    "\n",
    "#plt.savefig('pitch and roll.png')"
   ]
  },
  {
   "cell_type": "code",
   "execution_count": null,
   "metadata": {
    "pycharm": {
     "name": "#%%\n"
    }
   },
   "outputs": [],
   "source": [
    "figure(figsize=(6, 6))\n",
    "\n",
    "for i in range(1,9):\n",
    "    fmt_type = \"ESC\" + str(i)\n",
    "    ecs_time = DATA[fmt_type]['timeus'] * COLs[fmt_type]['mult_factor']['timeus']\n",
    "    ecs_volts = DATA[fmt_type]['volt'] * COLs[fmt_type]['mult_factor']['volt']\n",
    "    plt.plot(ecs_time, ecs_volts, label = fmt_type)\n",
    "\n",
    "plt.legend()\n",
    "plt.title(\"Motor Voltages\")"
   ]
  },
  {
   "cell_type": "code",
   "execution_count": null,
   "metadata": {
    "pycharm": {
     "name": "#%%\n"
    }
   },
   "outputs": [],
   "source": [
    "COLs['ESC1']"
   ]
  },
  {
   "cell_type": "code",
   "execution_count": null,
   "metadata": {
    "pycharm": {
     "name": "#%%\n"
    }
   },
   "outputs": [],
   "source": [
    "figure(figsize=(12, 12))\n",
    "\n",
    "plt.subplot(3, 2, 1)\n",
    "\n",
    "plt.plot(gps_x_cords, gps_y_cords, c='b', label = 'path')\n",
    "plt.title(\"GPS Cords\")\n",
    "\n",
    "plt.subplot(3, 2, 2)\n",
    "\n",
    "for i in range(1,9):\n",
    "    fmt_type = \"ESC\" + str(i)\n",
    "    ecs_time = DATA[fmt_type]['timeus'] * COLs[fmt_type]['mult_factor']['timeus']\n",
    "    ecs_volts = DATA[fmt_type]['rpm'] * COLs[fmt_type]['mult_factor']['rpm']\n",
    "    plt.plot(ecs_time, ecs_volts, label = 'motor %d' % i)\n",
    "\n",
    "plt.legend()\n",
    "plt.title(\"Motor RPMS\")"
   ]
  },
  {
   "cell_type": "code",
   "execution_count": null,
   "metadata": {
    "pycharm": {
     "name": "#%%\n"
    }
   },
   "outputs": [],
   "source": [
    "control_tuning_frame = DATA['CTUN']\n",
    "baro_frame = DATA['BARO']\n",
    "ctun_time = control_tuning_frame['timeus'] / 1000000\n",
    "baro_time = baro_frame['timeus'] / 1000000\n",
    "\n",
    "#plt.plot(ctun_time, control_tuning_frame['alt'], label='ctun alt')\n",
    "#plt.plot(ctun_time, control_tuning_frame['dalt'], label='ctun desired alt')\n",
    "plt.plot(ctun_time, control_tuning_frame['balt'], label='ctun balt alt')\n",
    "plt.plot(baro_time, baro_frame['alt'], label=\"Baro altitude\")\n",
    "plt.plot(gps_time, gps_alt, label='gps alt')\n",
    "plt.xlabel(\"Time (s)\")\n",
    "plt.ylabel(COLs['CTUN']['units']['alt'])\n",
    "plt.legend()\n",
    "plt.show()"
   ]
  },
  {
   "cell_type": "code",
   "execution_count": null,
   "metadata": {
    "pycharm": {
     "name": "#%%\n"
    }
   },
   "outputs": [],
   "source": [
    "counts['ATT']"
   ]
  },
  {
   "cell_type": "code",
   "execution_count": null,
   "metadata": {
    "pycharm": {
     "name": "#%%\n"
    }
   },
   "outputs": [],
   "source": [
    "att_frame = DATA['ATT']\n",
    "rate_frame = DATA['RATE']\n",
    "nfk1_frame = DATA['NKF1']\n",
    "nfk2_frame = DATA['NKF2']\n",
    "ahr2_frame = DATA['AHR2']\n",
    "att_time = att_frame['timeus'] / 1000000\n",
    "rate_time = rate_frame['timeus'] / 1000000\n",
    "nfk1_time = nfk1_frame['timeus'] / 1000000\n",
    "nfk2_time = nfk2_frame['timeus'] / 1000000\n",
    "ahr2_time = ahr2_frame['timeus'] / 1000000\n",
    "\n",
    "figure(figsize=(10, 10))\n",
    "\n",
    "plt.subplot(3, 2, 1)\n",
    "\n",
    "plt.plot(rate_time, rate_frame['r'] * COLs['RATE']['mult_factor']['r'], label= 'roll rate')\n",
    "plt.plot(rate_time, rate_frame['rout'] * COLs['RATE']['mult_factor']['rout'], label= 'roll desired')\n",
    "plt.plot(rate_time, rate_frame['p'] * COLs['RATE']['mult_factor']['p'], label= 'pitch rate')\n",
    "plt.plot(rate_time, rate_frame['pout'] * COLs['RATE']['mult_factor']['pout'], label= 'pitch out')\n",
    "plt.plot(rate_time, rate_frame['y'] * COLs['RATE']['mult_factor']['y'], label= 'yaw rate')\n",
    "plt.plot(rate_time, rate_frame['yout'] * COLs['RATE']['mult_factor']['yout'], label= 'yaw out')\n",
    "plt.ylabel(COLs['RATE']['units']['r'])\n",
    "plt.xlabel(\"Time (s)\")\n",
    "plt.legend()\n",
    "plt.title(\"Rate Roll, Pitch, and yaw rate\")\n",
    "\n",
    "plt.subplot(3, 2, 2)\n",
    "\n",
    "plt.plot(nfk1_time, nfk1_frame['roll'] * COLs['NKF1']['mult_factor']['roll'], label='estimated roll')\n",
    "plt.plot(nfk1_time, nfk1_frame['pitch'] * COLs['NKF1']['mult_factor']['pitch'], label='estimated pitch')\n",
    "plt.plot(nfk1_time, nfk1_frame['yaw'] * COLs['NKF1']['mult_factor']['yaw'], label='estimated yaw')\n",
    "plt.ylabel(COLs['NKF1']['units']['roll'])\n",
    "plt.xlabel(\"Time (s)\")\n",
    "plt.legend()\n",
    "plt.title(\"NKF1 Roll, Pitch and yaw\")\n",
    "\n",
    "plt.subplot(3, 2, 3)\n",
    "\n",
    "plt.plot(nfk1_time, nfk1_frame['vn'] * COLs['NKF1']['mult_factor']['vn'], label='velocity North')\n",
    "plt.plot(nfk1_time, nfk1_frame['ve'] * COLs['NKF1']['mult_factor']['ve'], label='velocity East')\n",
    "plt.plot(nfk1_time, nfk1_frame['vd'] * COLs['NKF1']['mult_factor']['vd'], label='velocity Down')\n",
    "plt.ylabel(COLs['NKF1']['units']['vn'])\n",
    "plt.xlabel('Time (s)')\n",
    "plt.legend()\n",
    "plt.title(\"NKF1 velocities\")\n",
    "\n",
    "plt.subplot(3, 2, 4)\n",
    "\n",
    "plt.plot(nfk1_time, nfk1_frame['gx'] * COLs['NKF1']['mult_factor']['gx'], label='gyro bias X-axis')\n",
    "plt.plot(nfk1_time, nfk1_frame['gy'] * COLs['NKF1']['mult_factor']['gy'], label='gyro bias Y-axis')\n",
    "plt.plot(nfk1_time, nfk1_frame['gz'] * COLs['NKF1']['mult_factor']['gz'], label='gyro bias Z-axis')\n",
    "plt.ylabel(COLs['NKF1']['units']['gx'])\n",
    "plt.xlabel(\"Time (s)\")\n",
    "plt.legend()\n",
    "plt.title(\"NKF1 Gyro data\")\n",
    "\n",
    "plt.subplot(3, 2, 5)\n",
    "\n",
    "plt.plot(nfk2_time, nfk2_frame['gsx'], label='gyro scale factor X-axis')\n",
    "plt.plot(nfk2_time, nfk2_frame['gsy'], label='gyro scale factor Y-axis')\n",
    "plt.plot(nfk2_time, nfk2_frame['gsz'], label='gyro scale factor Z-axis')\n",
    "plt.ylabel(COLs['NKF2']['units']['gsx'])\n",
    "plt.xlabel(\"Time (s)\")\n",
    "plt.legend()\n",
    "plt.title(\"NKF2 Gyro scale factor\")\n",
    "\n",
    "plt.subplot(3, 2, 6)\n",
    "\n",
    "plt.tight_layout()\n"
   ]
  },
  {
   "cell_type": "code",
   "execution_count": null,
   "metadata": {
    "pycharm": {
     "name": "#%%\n"
    }
   },
   "outputs": [],
   "source": [
    "fig =plt.figure(figsize=(10, 10))\n",
    "ax = plt.axes(projection='3d')\n",
    "\n",
    "ax.plot3D(nfk1_frame['pe'], nfk1_frame['pn'], nfk1_frame['pd'] * -1, 'red')"
   ]
  },
  {
   "cell_type": "code",
   "execution_count": null,
   "metadata": {
    "pycharm": {
     "name": "#%%\n"
    }
   },
   "outputs": [],
   "source": [
    "bat_frame = DATA['BAT']\n",
    "bat_time = bat_frame['timeus'] / 1000000\n",
    "bat_volt = bat_frame['volt']\n",
    "bat_curr = bat_frame['curr']\n",
    "\n",
    "imu_frame = DATA['IMU']\n",
    "imu_time = imu_frame['timeus'] / 1000000"
   ]
  },
  {
   "cell_type": "code",
   "execution_count": null,
   "metadata": {
    "pycharm": {
     "name": "#%%\n"
    }
   },
   "outputs": [],
   "source": [
    "figure(figsize=(20, 10))\n",
    "\n",
    "plt.subplot(2, 3, 1)\n",
    "\n",
    "plt.plot(gps_x_cords, gps_y_cords, c='b')\n",
    "\n",
    "for x, y in zip(cmd_x, cmd_y):\n",
    "    plt.plot(x, y, marker=\"o\", markersize=3, markeredgecolor=\"green\", markerfacecolor=\"green\")\n",
    "\n",
    "for x, y in zip(waypoints_x, waypoints_y):\n",
    "    plt.plot(x, y, marker=\"x\", markersize=5, markeredgecolor=\"orange\", markerfacecolor=\"orange\")\n",
    "\n",
    "plt.xlabel(\"meters\")\n",
    "plt.ylabel(\"meters\")\n",
    "plt.title(\"Gps Position\")\n",
    "\n",
    "plt.subplot(2, 3, 2)\n",
    "\n",
    "plt.plot(bat_time, bat_volt, c='r', label='measured voltage')\n",
    "plt.ylabel('volt')\n",
    "plt.xlabel('Time (s)')\n",
    "plt.legend()\n",
    "plt.title(\"Voltage over time\")\n",
    "\n",
    "plt.subplot(2, 3, 3)\n",
    "\n",
    "plt.plot(bat_time, bat_curr, c='g',label='measure current')\n",
    "plt.ylabel('A')\n",
    "plt.xlabel('Time (s)')\n",
    "plt.legend()\n",
    "plt.title(\"Current Over Time\")\n",
    "\n",
    "plt.subplot(2, 3, 4)\n",
    "\n",
    "plt.plot(nfk1_time, nfk1_frame['pn'] * COLs['NKF1']['mult_factor']['pn'], label='position North')\n",
    "plt.plot(nfk1_time, nfk1_frame['pe'] * COLs['NKF1']['mult_factor']['pe'], label='position East')\n",
    "plt.plot(nfk1_time, -1 * nfk1_frame['pd'] * COLs['NKF1']['mult_factor']['pd'], label='position Up')\n",
    "plt.ylabel(COLs['NKF1']['units']['pn'])\n",
    "plt.xlabel('Time (s)')\n",
    "plt.legend()\n",
    "plt.title(\"Positions\")\n",
    "\n",
    "plt.subplot(2, 3, 5)\n",
    "\n",
    "plt.plot(nfk1_time, nfk1_frame['vn'] * COLs['NKF1']['mult_factor']['vn'], label='velocity North')\n",
    "plt.plot(nfk1_time, nfk1_frame['ve'] * COLs['NKF1']['mult_factor']['ve'], label='velocity East')\n",
    "plt.plot(nfk1_time, nfk1_frame['vd'] * COLs['NKF1']['mult_factor']['vd'], label='velocity Down')\n",
    "plt.ylabel(COLs['NKF1']['units']['vn'])\n",
    "plt.xlabel('Time (s)')\n",
    "plt.legend()\n",
    "plt.title(\"Velocities\")\n",
    "\n",
    "plt.subplot(2, 3, 6)\n",
    "\n",
    "skip = 6\n",
    "\n",
    "plt.plot(imu_time[::skip], imu_frame['accx'][::skip] * COLs['IMU']['mult_factor']['accx'], label='acceleration X-axis')\n",
    "plt.plot(imu_time[::skip], imu_frame['accy'][::skip] * COLs['IMU']['mult_factor']['accy'], label='acceleration Y-axis')\n",
    "plt.plot(imu_time[::skip], imu_frame['accz'][::skip] * COLs['IMU']['mult_factor']['accz'], label='acceleration Z-axis')\n",
    "plt.ylabel(COLs['IMU']['units']['accx'])\n",
    "plt.xlabel('Time (s)')\n",
    "plt.legend()\n",
    "plt.title(\"Accelerations\")\n",
    "\n",
    "plt.savefig('2022-05-05_profiles.png')"
   ]
  },
  {
   "cell_type": "code",
   "execution_count": null,
   "metadata": {
    "pycharm": {
     "name": "#%%\n"
    }
   },
   "outputs": [],
   "source": [
    "imu_frame_test = imu_frame[['timeus', 'accx', 'accy', 'accz']]\n",
    "\n",
    "bat_frame_test = bat_frame[['timeus', 'volt', 'curr']]\n",
    "\n",
    "nfk1_frame_test = nfk1_frame[['timeus', 'pn', 'pe', 'pd', 'vn', 've', 'vd']]\n",
    "nfk1_frame_test = nfk1_frame_test.rename(columns={\"pn\": \"position_north\", \"pe\": \"position_east\", 'pd': \"position_down\",\n",
    "                                \"vn\": \"velocity_north\", \"ve\": \"velocity_east\", \"vd\": \"velocity_down\"}, errors=\"raise\")\n",
    "\n",
    "imu_frame_test.to_csv('DataForTim/acceleration.csv')\n",
    "bat_frame_test.to_csv('DataForTim/battery.csv')\n",
    "nfk1_frame_test.to_csv('DataForTim/position_and_velocity.csv')"
   ]
  },
  {
   "cell_type": "code",
   "execution_count": null,
   "metadata": {
    "pycharm": {
     "name": "#%%\n"
    }
   },
   "outputs": [],
   "source": [
    "time_dif = [bat_time[i+1] - bat_time[i] for i in range(len(bat_time)-1)]\n",
    "print(np.average(time_dif))"
   ]
  },
  {
   "cell_type": "code",
   "execution_count": null,
   "metadata": {
    "pycharm": {
     "name": "#%%\n"
    }
   },
   "outputs": [],
   "source": [
    "time_dif_2 = [imu_time[i+1] - imu_time[i] for i in range(len(imu_time)-1)]\n",
    "print(np.average(time_dif_2))\n"
   ]
  },
  {
   "cell_type": "code",
   "execution_count": null,
   "metadata": {
    "pycharm": {
     "name": "#%%\n"
    }
   },
   "outputs": [],
   "source": [
    "terr_frame = DATA['TERR']\n",
    "terr_time = terr_frame['timeus'] / 1000000\n",
    "terr_frame"
   ]
  },
  {
   "cell_type": "code",
   "execution_count": null,
   "metadata": {
    "pycharm": {
     "name": "#%%\n"
    }
   },
   "outputs": [],
   "source": [
    "DATA[\"CTRL\"]"
   ]
  },
  {
   "cell_type": "code",
   "execution_count": null,
   "metadata": {
    "pycharm": {
     "name": "#%%\n"
    }
   },
   "outputs": [],
   "source": [
    "position_fmts = ['BARO', 'GPS', 'IMU', 'IMU2', 'IMU3', 'ATT',\n",
    "                 'NKF1', 'NKF2', 'NKF3', 'NKF4', 'NKF5', 'NKF6', 'NKF7',\n",
    "                 'NKF8', 'NKF9', 'NKQ1', 'NKQ2', 'AHR2', 'POS', 'PSC', 'VIBE',\n",
    "                 'MAG', 'MAG2', 'MAG3', 'RATE', 'CTRL']\n",
    "\n",
    "motor_fmts = ['MOTB','ESC1','ESC2', 'ESC3', 'ESC4', 'ESC5', 'ESC6', 'ESC7', 'ESC8',\n",
    "              'CTUN']\n",
    "\n",
    "battery_fmts = ['BAT', 'POWR']\n",
    "\n",
    "all_fmts = position_fmts + motor_fmts + battery_fmts\n"
   ]
  },
  {
   "cell_type": "code",
   "execution_count": null,
   "metadata": {
    "pycharm": {
     "name": "#%%\n"
    }
   },
   "outputs": [],
   "source": [
    "large_nums = [fmt for fmt in counts.keys() if counts[fmt] > 2000]\n",
    "\n",
    "for fmt in all_fmts:\n",
    "    if fmt not in large_nums:\n",
    "        print(fmt, \"Is not large enough\")\n",
    "\n",
    "to_return = \"\"\n",
    "for elem in large_nums:\n",
    "    time_frame_itr = DATA[elem]['timeus'] * COLs[elem]['mult_factor']['timeus']\n",
    "    time_dif_itr = [time_frame_itr[i+1] - time_frame_itr[i] for i in range(len(time_frame_itr)-1)]\n",
    "    print(elem + \": \" + str(counts[elem]) + \" \" + str(round(np.average(time_dif_itr), 3)))\n",
    "    to_return = to_return + elem + \"\\t\" + str(counts[elem]) + '\\t' + str(round(np.average(time_dif_itr), 3)) + \"\\n\"\n",
    "\n",
    "#pyperclip.copy(to_return)\n"
   ]
  },
  {
   "cell_type": "code",
   "execution_count": null,
   "metadata": {
    "pycharm": {
     "name": "#%%\n"
    }
   },
   "outputs": [],
   "source": [
    "COLs"
   ]
  },
  {
   "cell_type": "code",
   "execution_count": null,
   "metadata": {
    "pycharm": {
     "name": "#%%\n"
    }
   },
   "outputs": [],
   "source": [
    "def get_col_names_from_fmts(fmt_list):\n",
    "    to_return = ['timeus']\n",
    "    for fmt_key in fmt_list:\n",
    "        for name in COLs[fmt_key]['col_names']:\n",
    "            if name != 'timeus':\n",
    "                if fmt_key[-1].isnumeric():\n",
    "                    name = name + fmt_key[-1]\n",
    "                to_return.append(name)\n",
    "    return to_return\n",
    "\n",
    "def get_units_from_col_names(col_names_1):\n",
    "    to_return = {}\n",
    "    for fmt_key in col.keys():\n",
    "        for name in COLs[fmt_key]['col_names']:\n",
    "            if name in col_names_1:\n",
    "                to_return[fmt_key] = COLs[fmt_key]['units'][name]\n",
    "\n",
    "    return to_return\n",
    "\n",
    "def write_col_descriptions(fmt_list, folder_name=cur_folder):\n",
    "    with open(folder_name + \"/column_descriptions.txt\", 'w', encoding='utf8') as data_desc:\n",
    "        data_desc.write(\"timeus: microseconds since system startup (us)\\n\\n\")\n",
    "        for fmt_key in fmt_list:\n",
    "            data_desc.write(fmt_key + \": \")\n",
    "            data_desc.write(format_descriptions[fmt_key]['general'] + '\\n')\n",
    "            for name in COLs[fmt_key]['col_names']:\n",
    "                n = \"\"\n",
    "                if fmt_key[-1].isnumeric():\n",
    "                    n = fmt_key[-1]\n",
    "\n",
    "                if name == 'timeus':\n",
    "                    continue\n",
    "                if name not in format_descriptions[fmt_key].keys():\n",
    "                    data_desc.write(name + n + \": UNKNOWN\")\n",
    "                else:\n",
    "                    data_desc.write(name + n + \": \" + format_descriptions[fmt_key][name])\n",
    "\n",
    "                if COLs[fmt_key]['units'][name] != '':\n",
    "                    data_desc.write(' (' + COLs[fmt_key]['units'][name] + ')')\n",
    "\n",
    "                data_desc.write('\\n')\n",
    "            data_desc.write('\\n')\n",
    "\n"
   ]
  },
  {
   "cell_type": "code",
   "execution_count": null,
   "metadata": {
    "pycharm": {
     "name": "#%%\n"
    }
   },
   "outputs": [],
   "source": [
    "# creating the data frame\n",
    "grouping_fmt = 'BAT'\n",
    "fmts_to_get = all_fmts\n",
    "bat_frame = DATA['BAT']\n",
    "time = np.asarray(bat_frame['timeus'])\n",
    "\n",
    "time_data = {}\n",
    "col_names = get_col_names_from_fmts(fmts_to_get)\n",
    "for col in col_names:\n",
    "    time_data[col] = []\n",
    "\n",
    "time_data = pd.DataFrame(time_data)\n",
    "\n",
    "row_count = 0\n",
    "\n",
    "with open(path_to_file, newline='') as csvfile:\n",
    "    csv_reader = csv.reader(csvfile, delimiter=',')\n",
    "    start_time = None\n",
    "    cur_row = {}\n",
    "    for row in csv_reader:\n",
    "        row_count = row_count + 1\n",
    "        if row_count % 5000 == 0:\n",
    "            print(row_count)\n",
    "        cur_fmt = row[0]\n",
    "        if cur_fmt not in fmts_to_get and cur_fmt != grouping_fmt:\n",
    "            continue\n",
    "\n",
    "        if start_time is None and cur_fmt == grouping_fmt:\n",
    "            start_log = True\n",
    "        elif start_time is None:\n",
    "            continue\n",
    "\n",
    "        if cur_fmt in fmts_to_get:\n",
    "            for i, (col_name, data_type) in enumerate(zip(COLs[cur_fmt]['col_names'], COLs[cur_fmt]['data_type'])):\n",
    "                added_num = False\n",
    "\n",
    "                if col_name == 'timeus':\n",
    "                    continue\n",
    "                if cur_fmt[-1].isnumeric():\n",
    "                    col_name = col_name + cur_fmt[-1]\n",
    "                    added_num = True\n",
    "\n",
    "                if isinstance(row[i], list): # Some rows come in as 2d lists for some reason\n",
    "                    cur_row[col_name] = [convert_data_point(row[i+1][0], data_type)]\n",
    "                else:\n",
    "                    cur_row[col_name] = [convert_data_point(row[i+1], data_type)]\n",
    "\n",
    "                mult_fact = COLs[cur_fmt]['mult_factor'][col_name[:-1] if added_num else col_name]\n",
    "                if mult_fact != 0.0 and (isinstance(cur_row[col_name], int) or isinstance(cur_row[col_name], float)):\n",
    "                    cur_row[col_name] = cur_row[col_name] * mult_fact\n",
    "\n",
    "\n",
    "        if cur_fmt == grouping_fmt:\n",
    "            total_time = 0\n",
    "            if start_time is None:\n",
    "                if isinstance(row[1], list):\n",
    "                    start_time = int(row[1][0])\n",
    "                else:\n",
    "                    start_time = int(row[1])\n",
    "            else:\n",
    "                if isinstance(row[1], list):\n",
    "                    total_time = int((int(row[1][0]) + start_time)/2)\n",
    "                    start_time = int(row[1][0])\n",
    "                else:\n",
    "                    total_time = int((int(row[1]) + start_time)/2)\n",
    "                    start_time = int(row[1])\n",
    "\n",
    "                cur_row['timeus'] = total_time\n",
    "                cur_row = pd.DataFrame(cur_row)\n",
    "                time_data = pd.concat([time_data, cur_row], ignore_index = True)\n",
    "                cur_row = {}"
   ]
  },
  {
   "cell_type": "code",
   "execution_count": null,
   "metadata": {
    "pycharm": {
     "name": "#%%\n"
    }
   },
   "outputs": [],
   "source": [
    "output_file_path = cur_folder + '/' + 'time_data.csv'\n",
    "\n",
    "time_data.to_csv(output_file_path)"
   ]
  },
  {
   "cell_type": "code",
   "execution_count": null,
   "metadata": {
    "pycharm": {
     "name": "#%%\n"
    }
   },
   "outputs": [],
   "source": [
    "write_col_descriptions(all_fmts)"
   ]
  },
  {
   "cell_type": "code",
   "execution_count": null,
   "metadata": {
    "pycharm": {
     "name": "#%%\n"
    }
   },
   "outputs": [],
   "source": [
    "format_descriptions"
   ]
  },
  {
   "cell_type": "code",
   "execution_count": null,
   "metadata": {
    "pycharm": {
     "name": "#%%\n"
    }
   },
   "outputs": [],
   "source": [
    "DATA['MOTB'].to_csv('data/bat_per_data.csv')"
   ]
  },
  {
   "cell_type": "code",
   "execution_count": null,
   "metadata": {
    "pycharm": {
     "name": "#%%\n"
    }
   },
   "outputs": [],
   "source": [
    "COLs[\"ESC1\"]"
   ]
  },
  {
   "cell_type": "code",
   "execution_count": null,
   "metadata": {
    "pycharm": {
     "name": "#%%\n"
    }
   },
   "outputs": [],
   "source": [
    "def rreplace(s, old, new, occurrence):\n",
    "    li = s.rsplit(old, occurrence)\n",
    "    return new.join(li)\n",
    "\n",
    "# Reading the PID Params:\n",
    "PID_PARAMs = {}\n",
    "found_params = []\n",
    "missing_params = []\n",
    "cur_param = None\n",
    "cur_desc = ''\n",
    "\n",
    "with open('PID_params.txt', 'r') as PID_file:\n",
    "    file = PID_file.readlines()\n",
    "\n",
    "    for row in file:\n",
    "        if row == '' or row == '\\n':\n",
    "            if cur_param in found_params:\n",
    "                cur_desc = rreplace(cur_desc, \"\\n\", \"\", 1)\n",
    "                cur_desc = cur_desc.replace('\\n', \". \")\n",
    "                PID_PARAMs[cur_param]['desc'] = cur_desc\n",
    "            cur_param = None\n",
    "            cur_desc = ''\n",
    "            continue\n",
    "\n",
    "        param = row.split(\" \")[0]\n",
    "        if param[-1] == ':':\n",
    "            param = param[:-1]\n",
    "\n",
    "        if param.upper() != param:\n",
    "            if cur_param is not None:\n",
    "                cur_desc = cur_desc + row\n",
    "            continue\n",
    "        else:\n",
    "            cur_param = param\n",
    "\n",
    "        if param in PARAMs.keys():\n",
    "            found_params.append(param)\n",
    "            PID_PARAMs[cur_param] = {}\n",
    "            PID_PARAMs[cur_param]['value'] = PARAMs[cur_param]['value']\n",
    "            PID_PARAMs[cur_param]['short_desc'] = row[len(row.split(\" \")[0]) + 1:].replace('\\n', '')\n",
    "        else:\n",
    "            missing_params.append(param)\n",
    "\n",
    "    if cur_param is not None and cur_param in found_params:\n",
    "        cur_desc = rreplace(cur_desc, \"\\n\", \"\", 1)\n",
    "        cur_desc = cur_desc.replace('\\n', \". \")\n",
    "        PID_PARAMs[cur_param]['desc'] = cur_desc\n"
   ]
  },
  {
   "cell_type": "code",
   "execution_count": null,
   "metadata": {
    "pycharm": {
     "name": "#%%\n"
    }
   },
   "outputs": [],
   "source": [
    "found_params"
   ]
  },
  {
   "cell_type": "code",
   "execution_count": null,
   "metadata": {
    "pycharm": {
     "name": "#%%\n"
    }
   },
   "outputs": [],
   "source": [
    "missing_params"
   ]
  },
  {
   "cell_type": "code",
   "execution_count": null,
   "metadata": {
    "pycharm": {
     "name": "#%%\n"
    }
   },
   "outputs": [],
   "source": [
    "PID_PARAMs"
   ]
  },
  {
   "cell_type": "code",
   "execution_count": null,
   "metadata": {
    "pycharm": {
     "name": "#%%\n"
    }
   },
   "outputs": [],
   "source": [
    "with open(cur_folder + '/PID_list.txt', 'w', encoding='utf8') as output_file:\n",
    "\n",
    "    for param in PID_PARAMs.keys():\n",
    "        output_file.write(param + \": \" + str(PID_PARAMs[param]['value']) + '\\n')\n",
    "        output_file.write(PID_PARAMs[param]['short_desc'] + '\\n')\n",
    "        output_file.write(PID_PARAMs[param]['desc'] + '\\n\\n')"
   ]
  },
  {
   "cell_type": "code",
   "execution_count": null,
   "metadata": {
    "pycharm": {
     "name": "#%%\n"
    }
   },
   "outputs": [],
   "source": []
  }
 ],
 "metadata": {
  "kernelspec": {
   "display_name": "Python 3 (ipykernel)",
   "language": "python",
   "name": "python3"
  },
  "language_info": {
   "codemirror_mode": {
    "name": "ipython",
    "version": 3
   },
   "file_extension": ".py",
   "mimetype": "text/x-python",
   "name": "python",
   "nbconvert_exporter": "python",
   "pygments_lexer": "ipython3",
   "version": "3.9.7"
  }
 },
 "nbformat": 4,
 "nbformat_minor": 1
}